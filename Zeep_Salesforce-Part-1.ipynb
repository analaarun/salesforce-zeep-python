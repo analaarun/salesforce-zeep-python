{
 "cells": [
  {
   "cell_type": "code",
   "execution_count": 1,
   "metadata": {},
   "outputs": [],
   "source": [
    "from zeep import Client"
   ]
  },
  {
   "cell_type": "code",
   "execution_count": 2,
   "metadata": {},
   "outputs": [],
   "source": [
    "username = \"***************\"\n",
    "password = \"***************\"\n",
    "enterprise_wsdl_path = \"/************/enterprise.xml\""
   ]
  },
  {
   "cell_type": "code",
   "execution_count": 3,
   "metadata": {},
   "outputs": [],
   "source": [
    "client = Client(enterprise_wsdl_path)\n",
    "login_result = client.service.login(username, password)\n",
    "client._default_soapheaders ={'SessionHeader':{\"sessionId\" : login_result.sessionId}} \n",
    "clientService = client.create_service('{urn:enterprise.soap.sforce.com}SoapBinding', login_result.serverUrl)"
   ]
  },
  {
   "cell_type": "code",
   "execution_count": 4,
   "metadata": {},
   "outputs": [
    {
     "name": "stdout",
     "output_type": "stream",
     "text": [
      "{\n",
      "    'metadataServerUrl': 'https://sfdev1aanala-dev-ed.my.salesforce.com/services/Soap/m/47.0/00D7F0000049Oop',\n",
      "    'passwordExpired': False,\n",
      "    'sandbox': False,\n",
      "    'serverUrl': 'https://sfdev1aanala-dev-ed.my.salesforce.com/services/Soap/c/47.0/00D7F0000049Oop/0DF7F0000008XpI',\n",
      "    'sessionId': '00D7F0000049Oop!ARwAQGUEB4WK0ii3738kl61vMy6fqkxEZiDAPkeZBgwWuoep83SMAyRo5p0rZyy8E3ttrzw01_ZIzvn3uuz1gz26f5kcnMZq',\n",
      "    'userId': '0057F000001fHkaQAE',\n",
      "    'userInfo': {\n",
      "        'accessibilityMode': False,\n",
      "        'chatterExternal': False,\n",
      "        'currencySymbol': '$',\n",
      "        'orgAttachmentFileSizeLimit': 5242880,\n",
      "        'orgDefaultCurrencyIsoCode': 'USD',\n",
      "        'orgDefaultCurrencyLocale': 'en_US',\n",
      "        'orgDisallowHtmlAttachments': False,\n",
      "        'orgHasPersonAccounts': False,\n",
      "        'organizationId': '00D7F0000049OopUAE',\n",
      "        'organizationMultiCurrency': False,\n",
      "        'organizationName': 'Developer',\n",
      "        'profileId': '00e7F000002CVYLQA4',\n",
      "        'roleId': None,\n",
      "        'sessionSecondsValid': 7200,\n",
      "        'userDefaultCurrencyIsoCode': None,\n",
      "        'userEmail': 'analaarun.k@gmail.com',\n",
      "        'userFullName': 'Arun Kumar Anala',\n",
      "        'userId': '0057F000001fHkaQAE',\n",
      "        'userLanguage': 'en_US',\n",
      "        'userLocale': 'en_US',\n",
      "        'userName': 'aanala@sfdev1.com',\n",
      "        'userTimeZone': 'Asia/Kolkata',\n",
      "        'userType': 'Standard',\n",
      "        'userUiSkin': 'Theme3'\n",
      "    }\n",
      "}\n"
     ]
    }
   ],
   "source": [
    "print(login_result)"
   ]
  },
  {
   "cell_type": "code",
   "execution_count": 5,
   "metadata": {},
   "outputs": [],
   "source": [
    "query_result = clientService.query(\"Select ID, Name FROM Account LIMIT 3\")"
   ]
  },
  {
   "cell_type": "code",
   "execution_count": 6,
   "metadata": {},
   "outputs": [
    {
     "name": "stdout",
     "output_type": "stream",
     "text": [
      "Id : 0017F00000PwrwxQAB\n",
      "Name : TestArungvjhj67\n",
      "-----------------------\n",
      "Id : 0017F00000PwrwvQAB\n",
      "Name : United Oil & Gas, UK\n",
      "-----------------------\n",
      "Id : 0017F00000PwrwwQAB\n",
      "Name : United Oil & Gas, Singapore\n",
      "-----------------------\n"
     ]
    }
   ],
   "source": [
    "for i in range(3):\n",
    "    print(\"Id : \" + query_result.body.result.records[i]['Id']) \n",
    "    print(\"Name : \" + query_result.body.result.records[i]['Name'])\n",
    "    print(\"-----------------------\")"
   ]
  },
  {
   "cell_type": "code",
   "execution_count": null,
   "metadata": {},
   "outputs": [],
   "source": [
    "\n"
   ]
  }
 ],
 "metadata": {
  "kernelspec": {
   "display_name": "Python 3",
   "language": "python",
   "name": "python3"
  },
  "language_info": {
   "codemirror_mode": {
    "name": "ipython",
    "version": 3
   },
   "file_extension": ".py",
   "mimetype": "text/x-python",
   "name": "python",
   "nbconvert_exporter": "python",
   "pygments_lexer": "ipython3",
   "version": "3.7.0"
  },
  "toc": {
   "base_numbering": 1,
   "nav_menu": {},
   "number_sections": true,
   "sideBar": true,
   "skip_h1_title": false,
   "title_cell": "Table of Contents",
   "title_sidebar": "Contents",
   "toc_cell": false,
   "toc_position": {},
   "toc_section_display": true,
   "toc_window_display": true
  },
  "varInspector": {
   "cols": {
    "lenName": 16,
    "lenType": 16,
    "lenVar": 40
   },
   "kernels_config": {
    "python": {
     "delete_cmd_postfix": "",
     "delete_cmd_prefix": "del ",
     "library": "var_list.py",
     "varRefreshCmd": "print(var_dic_list())"
    },
    "r": {
     "delete_cmd_postfix": ") ",
     "delete_cmd_prefix": "rm(",
     "library": "var_list.r",
     "varRefreshCmd": "cat(var_dic_list()) "
    }
   },
   "types_to_exclude": [
    "module",
    "function",
    "builtin_function_or_method",
    "instance",
    "_Feature"
   ],
   "window_display": false
  }
 },
 "nbformat": 4,
 "nbformat_minor": 2
}
